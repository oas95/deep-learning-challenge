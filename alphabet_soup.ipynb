{
  "cells": [
    {
      "cell_type": "markdown",
      "metadata": {
        "colab_type": "text",
        "id": "view-in-github"
      },
      "source": [
        "<a href=\"https://colab.research.google.com/github/oas95/deep-learning-challenge/blob/main/Starter_Code.ipynb\" target=\"_parent\"><img src=\"https://colab.research.google.com/assets/colab-badge.svg\" alt=\"Open In Colab\"/></a>"
      ]
    },
    {
      "cell_type": "markdown",
      "metadata": {
        "id": "jIa14bFEzRCS"
      },
      "source": [
        "## Preprocessing"
      ]
    },
    {
      "cell_type": "code",
      "execution_count": 1,
      "metadata": {
        "colab": {
          "base_uri": "https://localhost:8080/"
        },
        "id": "OLVMmIhM1hPK",
        "outputId": "839274b5-19dd-4696-f68d-1b1dafb54d07"
      },
      "outputs": [],
      "source": [
        "#from google.colab import drive\n",
        "#drive.mount('/content/drive')"
      ]
    },
    {
      "cell_type": "code",
      "execution_count": 2,
      "metadata": {
        "colab": {
          "base_uri": "https://localhost:8080/",
          "height": 489
        },
        "id": "Z9FN55N6zRCT",
        "outputId": "770a7f89-60e4-4785-c2a1-93daa18f55df"
      },
      "outputs": [
        {
          "data": {
            "text/html": [
              "<div>\n",
              "<style scoped>\n",
              "    .dataframe tbody tr th:only-of-type {\n",
              "        vertical-align: middle;\n",
              "    }\n",
              "\n",
              "    .dataframe tbody tr th {\n",
              "        vertical-align: top;\n",
              "    }\n",
              "\n",
              "    .dataframe thead th {\n",
              "        text-align: right;\n",
              "    }\n",
              "</style>\n",
              "<table border=\"1\" class=\"dataframe\">\n",
              "  <thead>\n",
              "    <tr style=\"text-align: right;\">\n",
              "      <th></th>\n",
              "      <th>EIN</th>\n",
              "      <th>NAME</th>\n",
              "      <th>APPLICATION_TYPE</th>\n",
              "      <th>AFFILIATION</th>\n",
              "      <th>CLASSIFICATION</th>\n",
              "      <th>USE_CASE</th>\n",
              "      <th>ORGANIZATION</th>\n",
              "      <th>STATUS</th>\n",
              "      <th>INCOME_AMT</th>\n",
              "      <th>SPECIAL_CONSIDERATIONS</th>\n",
              "      <th>ASK_AMT</th>\n",
              "      <th>IS_SUCCESSFUL</th>\n",
              "    </tr>\n",
              "  </thead>\n",
              "  <tbody>\n",
              "    <tr>\n",
              "      <th>0</th>\n",
              "      <td>10520599</td>\n",
              "      <td>BLUE KNIGHTS MOTORCYCLE CLUB</td>\n",
              "      <td>T10</td>\n",
              "      <td>Independent</td>\n",
              "      <td>C1000</td>\n",
              "      <td>ProductDev</td>\n",
              "      <td>Association</td>\n",
              "      <td>1</td>\n",
              "      <td>0</td>\n",
              "      <td>N</td>\n",
              "      <td>5000</td>\n",
              "      <td>1</td>\n",
              "    </tr>\n",
              "    <tr>\n",
              "      <th>1</th>\n",
              "      <td>10531628</td>\n",
              "      <td>AMERICAN CHESAPEAKE CLUB CHARITABLE TR</td>\n",
              "      <td>T3</td>\n",
              "      <td>Independent</td>\n",
              "      <td>C2000</td>\n",
              "      <td>Preservation</td>\n",
              "      <td>Co-operative</td>\n",
              "      <td>1</td>\n",
              "      <td>1-9999</td>\n",
              "      <td>N</td>\n",
              "      <td>108590</td>\n",
              "      <td>1</td>\n",
              "    </tr>\n",
              "    <tr>\n",
              "      <th>2</th>\n",
              "      <td>10547893</td>\n",
              "      <td>ST CLOUD PROFESSIONAL FIREFIGHTERS</td>\n",
              "      <td>T5</td>\n",
              "      <td>CompanySponsored</td>\n",
              "      <td>C3000</td>\n",
              "      <td>ProductDev</td>\n",
              "      <td>Association</td>\n",
              "      <td>1</td>\n",
              "      <td>0</td>\n",
              "      <td>N</td>\n",
              "      <td>5000</td>\n",
              "      <td>0</td>\n",
              "    </tr>\n",
              "    <tr>\n",
              "      <th>3</th>\n",
              "      <td>10553066</td>\n",
              "      <td>SOUTHSIDE ATHLETIC ASSOCIATION</td>\n",
              "      <td>T3</td>\n",
              "      <td>CompanySponsored</td>\n",
              "      <td>C2000</td>\n",
              "      <td>Preservation</td>\n",
              "      <td>Trust</td>\n",
              "      <td>1</td>\n",
              "      <td>10000-24999</td>\n",
              "      <td>N</td>\n",
              "      <td>6692</td>\n",
              "      <td>1</td>\n",
              "    </tr>\n",
              "    <tr>\n",
              "      <th>4</th>\n",
              "      <td>10556103</td>\n",
              "      <td>GENETIC RESEARCH INSTITUTE OF THE DESERT</td>\n",
              "      <td>T3</td>\n",
              "      <td>Independent</td>\n",
              "      <td>C1000</td>\n",
              "      <td>Heathcare</td>\n",
              "      <td>Trust</td>\n",
              "      <td>1</td>\n",
              "      <td>100000-499999</td>\n",
              "      <td>N</td>\n",
              "      <td>142590</td>\n",
              "      <td>1</td>\n",
              "    </tr>\n",
              "  </tbody>\n",
              "</table>\n",
              "</div>"
            ],
            "text/plain": [
              "        EIN                                      NAME APPLICATION_TYPE  \\\n",
              "0  10520599              BLUE KNIGHTS MOTORCYCLE CLUB              T10   \n",
              "1  10531628    AMERICAN CHESAPEAKE CLUB CHARITABLE TR               T3   \n",
              "2  10547893        ST CLOUD PROFESSIONAL FIREFIGHTERS               T5   \n",
              "3  10553066            SOUTHSIDE ATHLETIC ASSOCIATION               T3   \n",
              "4  10556103  GENETIC RESEARCH INSTITUTE OF THE DESERT               T3   \n",
              "\n",
              "        AFFILIATION CLASSIFICATION      USE_CASE  ORGANIZATION  STATUS  \\\n",
              "0       Independent          C1000    ProductDev   Association       1   \n",
              "1       Independent          C2000  Preservation  Co-operative       1   \n",
              "2  CompanySponsored          C3000    ProductDev   Association       1   \n",
              "3  CompanySponsored          C2000  Preservation         Trust       1   \n",
              "4       Independent          C1000     Heathcare         Trust       1   \n",
              "\n",
              "      INCOME_AMT SPECIAL_CONSIDERATIONS  ASK_AMT  IS_SUCCESSFUL  \n",
              "0              0                      N     5000              1  \n",
              "1         1-9999                      N   108590              1  \n",
              "2              0                      N     5000              0  \n",
              "3    10000-24999                      N     6692              1  \n",
              "4  100000-499999                      N   142590              1  "
            ]
          },
          "execution_count": 2,
          "metadata": {},
          "output_type": "execute_result"
        }
      ],
      "source": [
        "# Import our dependencies\n",
        "from sklearn.model_selection import train_test_split\n",
        "from sklearn.preprocessing import StandardScaler\n",
        "import pandas as pd\n",
        "import tensorflow as tf\n",
        "\n",
        "#  Import and read the charity_data.csv.\n",
        "import pandas as pd \n",
        "application_df = pd.read_csv(\"../deep-learning-challenge/Resources/charity_data.csv\")\n",
        "application_df.head()"
      ]
    },
    {
      "cell_type": "code",
      "execution_count": 3,
      "metadata": {
        "id": "YzuwFYewzRCU"
      },
      "outputs": [],
      "source": [
        "# Drop the non-beneficial ID columns, 'EIN' and 'NAME'.\n",
        "appclean_dfv1 = application_df.drop(['EIN', 'NAME'], axis=1)"
      ]
    },
    {
      "cell_type": "code",
      "execution_count": 4,
      "metadata": {
        "colab": {
          "base_uri": "https://localhost:8080/",
          "height": 285
        },
        "id": "8ySqZuPH4u9B",
        "outputId": "0864c009-7317-480d-e716-d5141f73c605"
      },
      "outputs": [
        {
          "data": {
            "text/html": [
              "<div>\n",
              "<style scoped>\n",
              "    .dataframe tbody tr th:only-of-type {\n",
              "        vertical-align: middle;\n",
              "    }\n",
              "\n",
              "    .dataframe tbody tr th {\n",
              "        vertical-align: top;\n",
              "    }\n",
              "\n",
              "    .dataframe thead th {\n",
              "        text-align: right;\n",
              "    }\n",
              "</style>\n",
              "<table border=\"1\" class=\"dataframe\">\n",
              "  <thead>\n",
              "    <tr style=\"text-align: right;\">\n",
              "      <th></th>\n",
              "      <th>APPLICATION_TYPE</th>\n",
              "      <th>AFFILIATION</th>\n",
              "      <th>CLASSIFICATION</th>\n",
              "      <th>USE_CASE</th>\n",
              "      <th>ORGANIZATION</th>\n",
              "      <th>STATUS</th>\n",
              "      <th>INCOME_AMT</th>\n",
              "      <th>SPECIAL_CONSIDERATIONS</th>\n",
              "      <th>ASK_AMT</th>\n",
              "      <th>IS_SUCCESSFUL</th>\n",
              "    </tr>\n",
              "  </thead>\n",
              "  <tbody>\n",
              "    <tr>\n",
              "      <th>0</th>\n",
              "      <td>T10</td>\n",
              "      <td>Independent</td>\n",
              "      <td>C1000</td>\n",
              "      <td>ProductDev</td>\n",
              "      <td>Association</td>\n",
              "      <td>1</td>\n",
              "      <td>0</td>\n",
              "      <td>N</td>\n",
              "      <td>5000</td>\n",
              "      <td>1</td>\n",
              "    </tr>\n",
              "    <tr>\n",
              "      <th>1</th>\n",
              "      <td>T3</td>\n",
              "      <td>Independent</td>\n",
              "      <td>C2000</td>\n",
              "      <td>Preservation</td>\n",
              "      <td>Co-operative</td>\n",
              "      <td>1</td>\n",
              "      <td>1-9999</td>\n",
              "      <td>N</td>\n",
              "      <td>108590</td>\n",
              "      <td>1</td>\n",
              "    </tr>\n",
              "    <tr>\n",
              "      <th>2</th>\n",
              "      <td>T5</td>\n",
              "      <td>CompanySponsored</td>\n",
              "      <td>C3000</td>\n",
              "      <td>ProductDev</td>\n",
              "      <td>Association</td>\n",
              "      <td>1</td>\n",
              "      <td>0</td>\n",
              "      <td>N</td>\n",
              "      <td>5000</td>\n",
              "      <td>0</td>\n",
              "    </tr>\n",
              "    <tr>\n",
              "      <th>3</th>\n",
              "      <td>T3</td>\n",
              "      <td>CompanySponsored</td>\n",
              "      <td>C2000</td>\n",
              "      <td>Preservation</td>\n",
              "      <td>Trust</td>\n",
              "      <td>1</td>\n",
              "      <td>10000-24999</td>\n",
              "      <td>N</td>\n",
              "      <td>6692</td>\n",
              "      <td>1</td>\n",
              "    </tr>\n",
              "    <tr>\n",
              "      <th>4</th>\n",
              "      <td>T3</td>\n",
              "      <td>Independent</td>\n",
              "      <td>C1000</td>\n",
              "      <td>Heathcare</td>\n",
              "      <td>Trust</td>\n",
              "      <td>1</td>\n",
              "      <td>100000-499999</td>\n",
              "      <td>N</td>\n",
              "      <td>142590</td>\n",
              "      <td>1</td>\n",
              "    </tr>\n",
              "  </tbody>\n",
              "</table>\n",
              "</div>"
            ],
            "text/plain": [
              "  APPLICATION_TYPE       AFFILIATION CLASSIFICATION      USE_CASE  \\\n",
              "0              T10       Independent          C1000    ProductDev   \n",
              "1               T3       Independent          C2000  Preservation   \n",
              "2               T5  CompanySponsored          C3000    ProductDev   \n",
              "3               T3  CompanySponsored          C2000  Preservation   \n",
              "4               T3       Independent          C1000     Heathcare   \n",
              "\n",
              "   ORGANIZATION  STATUS     INCOME_AMT SPECIAL_CONSIDERATIONS  ASK_AMT  \\\n",
              "0   Association       1              0                      N     5000   \n",
              "1  Co-operative       1         1-9999                      N   108590   \n",
              "2   Association       1              0                      N     5000   \n",
              "3         Trust       1    10000-24999                      N     6692   \n",
              "4         Trust       1  100000-499999                      N   142590   \n",
              "\n",
              "   IS_SUCCESSFUL  \n",
              "0              1  \n",
              "1              1  \n",
              "2              0  \n",
              "3              1  \n",
              "4              1  "
            ]
          },
          "execution_count": 4,
          "metadata": {},
          "output_type": "execute_result"
        }
      ],
      "source": [
        "appclean_dfv1.head()"
      ]
    },
    {
      "cell_type": "code",
      "execution_count": 5,
      "metadata": {
        "colab": {
          "base_uri": "https://localhost:8080/"
        },
        "id": "n_53FDFDzRCV",
        "outputId": "b2529ea2-9c16-4be8-ee4d-144ebdf84485"
      },
      "outputs": [
        {
          "name": "stdout",
          "output_type": "stream",
          "text": [
            "APPLICATION_TYPE 17\n",
            "AFFILIATION 6\n",
            "CLASSIFICATION 71\n",
            "USE_CASE 5\n",
            "ORGANIZATION 4\n",
            "STATUS 2\n",
            "INCOME_AMT 9\n",
            "SPECIAL_CONSIDERATIONS 2\n",
            "ASK_AMT 8747\n",
            "IS_SUCCESSFUL 2\n"
          ]
        }
      ],
      "source": [
        "# Determine the number of unique values in each column.\n",
        "for i in appclean_dfv1.columns:\n",
        "  print(i, len(appclean_dfv1[i].unique()))"
      ]
    },
    {
      "cell_type": "code",
      "execution_count": 6,
      "metadata": {
        "colab": {
          "base_uri": "https://localhost:8080/"
        },
        "id": "D-CLgBIfzRCV",
        "outputId": "8c67246d-1db2-4ced-8454-bd9afa0ede2c"
      },
      "outputs": [
        {
          "data": {
            "text/plain": [
              "T3     27037\n",
              "T4      1542\n",
              "T6      1216\n",
              "T5      1173\n",
              "T19     1065\n",
              "T8       737\n",
              "T7       725\n",
              "T10      528\n",
              "T9       156\n",
              "T13       66\n",
              "T12       27\n",
              "T2        16\n",
              "T25        3\n",
              "T14        3\n",
              "T29        2\n",
              "T15        2\n",
              "T17        1\n",
              "Name: APPLICATION_TYPE, dtype: int64"
            ]
          },
          "execution_count": 6,
          "metadata": {},
          "output_type": "execute_result"
        }
      ],
      "source": [
        "# Look at APPLICATION_TYPE value counts for binning\n",
        "app_counts = appclean_dfv1['APPLICATION_TYPE'].value_counts()\n",
        "app_counts"
      ]
    },
    {
      "cell_type": "code",
      "execution_count": 7,
      "metadata": {
        "colab": {
          "base_uri": "https://localhost:8080/"
        },
        "id": "oQFxq9hIzRCW",
        "outputId": "9a2fe42b-c0a3-4edc-8b97-ac422b355734"
      },
      "outputs": [
        {
          "data": {
            "text/plain": [
              "T3       27037\n",
              "T4        1542\n",
              "T6        1216\n",
              "T5        1173\n",
              "T19       1065\n",
              "T8         737\n",
              "T7         725\n",
              "T10        528\n",
              "Other      276\n",
              "Name: APPLICATION_TYPE, dtype: int64"
            ]
          },
          "execution_count": 7,
          "metadata": {},
          "output_type": "execute_result"
        }
      ],
      "source": [
        "# Choose a cutoff value and create a list of application types to be replaced\n",
        "# use the variable name `application_types_to_replace`\n",
        "application_types_to_replace = list(app_counts[app_counts<500].index)\n",
        "\n",
        "# Replace in dataframe\n",
        "for app in application_types_to_replace:\n",
        "    application_df['APPLICATION_TYPE'] = application_df['APPLICATION_TYPE'].replace(app,\"Other\")\n",
        "\n",
        "# Check to make sure binning was successful\n",
        "application_df['APPLICATION_TYPE'].value_counts()"
      ]
    },
    {
      "cell_type": "code",
      "execution_count": 8,
      "metadata": {
        "id": "ErxhnN6TzRCW"
      },
      "outputs": [],
      "source": [
        "# Look at CLASSIFICATION value counts for binning\n",
        "classification_counts = application_df['CLASSIFICATION'].value_counts()"
      ]
    },
    {
      "cell_type": "code",
      "execution_count": 9,
      "metadata": {
        "colab": {
          "base_uri": "https://localhost:8080/"
        },
        "id": "K894KB2wzRCX",
        "outputId": "7f8cf1e1-19ce-4cc7-875e-610b4635924e"
      },
      "outputs": [
        {
          "data": {
            "text/plain": [
              "C1000    17326\n",
              "C2000     6074\n",
              "C1200     4837\n",
              "C3000     1918\n",
              "C2100     1883\n",
              "C7000      777\n",
              "C1700      287\n",
              "C4000      194\n",
              "C5000      116\n",
              "C1270      114\n",
              "C2700      104\n",
              "C2800       95\n",
              "C7100       75\n",
              "C1300       58\n",
              "C1280       50\n",
              "C1230       36\n",
              "C1400       34\n",
              "C7200       32\n",
              "C2300       32\n",
              "C1240       30\n",
              "C8000       20\n",
              "C7120       18\n",
              "C1500       16\n",
              "C1800       15\n",
              "C6000       15\n",
              "C1250       14\n",
              "C8200       11\n",
              "C1238       10\n",
              "C1278       10\n",
              "C1235        9\n",
              "C1237        9\n",
              "C7210        7\n",
              "C2400        6\n",
              "C1720        6\n",
              "C4100        6\n",
              "C1257        5\n",
              "C1600        5\n",
              "C1260        3\n",
              "C2710        3\n",
              "C0           3\n",
              "C3200        2\n",
              "C1234        2\n",
              "C1246        2\n",
              "C1267        2\n",
              "C1256        2\n",
              "Name: CLASSIFICATION, dtype: int64"
            ]
          },
          "execution_count": 9,
          "metadata": {},
          "output_type": "execute_result"
        }
      ],
      "source": [
        "# You may find it helpful to look at CLASSIFICATION value counts >1\n",
        "application_df['CLASSIFICATION'].value_counts().loc[lambda x:x >1]"
      ]
    },
    {
      "cell_type": "code",
      "execution_count": 10,
      "metadata": {
        "colab": {
          "base_uri": "https://localhost:8080/"
        },
        "id": "f9WVBSJyzRCX",
        "outputId": "b171a5ec-2618-4984-c338-904356e0b9a2"
      },
      "outputs": [
        {
          "data": {
            "text/plain": [
              "C1000    17326\n",
              "C2000     6074\n",
              "C1200     4837\n",
              "Other     2261\n",
              "C3000     1918\n",
              "C2100     1883\n",
              "Name: CLASSIFICATION, dtype: int64"
            ]
          },
          "execution_count": 10,
          "metadata": {},
          "output_type": "execute_result"
        }
      ],
      "source": [
        "# Choose a cutoff value and create a list of classifications to be replaced\n",
        "# use the variable name `classifications_to_replace`\n",
        "classifications_to_replace = list(classification_counts[classification_counts<1000].index)\n",
        "\n",
        "# Replace in dataframe\n",
        "for cls in classifications_to_replace:\n",
        "    application_df['CLASSIFICATION'] = application_df['CLASSIFICATION'].replace(cls,\"Other\")\n",
        "    \n",
        "# Check to make sure binning was successful\n",
        "application_df['CLASSIFICATION'].value_counts()"
      ]
    },
    {
      "cell_type": "code",
      "execution_count": 11,
      "metadata": {
        "colab": {
          "base_uri": "https://localhost:8080/",
          "height": 450
        },
        "id": "Zs-NlWQHzRCX",
        "outputId": "9c25b8ee-45c0-4dbe-bbda-8a8b16c2cb6e"
      },
      "outputs": [
        {
          "data": {
            "text/html": [
              "<div>\n",
              "<style scoped>\n",
              "    .dataframe tbody tr th:only-of-type {\n",
              "        vertical-align: middle;\n",
              "    }\n",
              "\n",
              "    .dataframe tbody tr th {\n",
              "        vertical-align: top;\n",
              "    }\n",
              "\n",
              "    .dataframe thead th {\n",
              "        text-align: right;\n",
              "    }\n",
              "</style>\n",
              "<table border=\"1\" class=\"dataframe\">\n",
              "  <thead>\n",
              "    <tr style=\"text-align: right;\">\n",
              "      <th></th>\n",
              "      <th>EIN</th>\n",
              "      <th>STATUS</th>\n",
              "      <th>ASK_AMT</th>\n",
              "      <th>IS_SUCCESSFUL</th>\n",
              "      <th>NAME_1 DAY RANCH RESCUE AND RURAL OKLAHOMA ANIMAL RESOURCE INC</th>\n",
              "      <th>NAME_100 BLACK MEN OF AMERICA</th>\n",
              "      <th>NAME_100 BLACK MEN OF MEMPHIS INC</th>\n",
              "      <th>NAME_100 BLACK MEN OF WEST GEORGIA INC</th>\n",
              "      <th>NAME_1150 WEBSTER STREET INC</th>\n",
              "      <th>NAME_116TH CAVALRY REGIMENT CHAPTER OF THE US CAVALRY &amp; ARMOR ASSOCIATION</th>\n",
              "      <th>...</th>\n",
              "      <th>INCOME_AMT_1-9999</th>\n",
              "      <th>INCOME_AMT_10000-24999</th>\n",
              "      <th>INCOME_AMT_100000-499999</th>\n",
              "      <th>INCOME_AMT_10M-50M</th>\n",
              "      <th>INCOME_AMT_1M-5M</th>\n",
              "      <th>INCOME_AMT_25000-99999</th>\n",
              "      <th>INCOME_AMT_50M+</th>\n",
              "      <th>INCOME_AMT_5M-10M</th>\n",
              "      <th>SPECIAL_CONSIDERATIONS_N</th>\n",
              "      <th>SPECIAL_CONSIDERATIONS_Y</th>\n",
              "    </tr>\n",
              "  </thead>\n",
              "  <tbody>\n",
              "    <tr>\n",
              "      <th>0</th>\n",
              "      <td>10520599</td>\n",
              "      <td>1</td>\n",
              "      <td>5000</td>\n",
              "      <td>1</td>\n",
              "      <td>0</td>\n",
              "      <td>0</td>\n",
              "      <td>0</td>\n",
              "      <td>0</td>\n",
              "      <td>0</td>\n",
              "      <td>0</td>\n",
              "      <td>...</td>\n",
              "      <td>0</td>\n",
              "      <td>0</td>\n",
              "      <td>0</td>\n",
              "      <td>0</td>\n",
              "      <td>0</td>\n",
              "      <td>0</td>\n",
              "      <td>0</td>\n",
              "      <td>0</td>\n",
              "      <td>1</td>\n",
              "      <td>0</td>\n",
              "    </tr>\n",
              "    <tr>\n",
              "      <th>1</th>\n",
              "      <td>10531628</td>\n",
              "      <td>1</td>\n",
              "      <td>108590</td>\n",
              "      <td>1</td>\n",
              "      <td>0</td>\n",
              "      <td>0</td>\n",
              "      <td>0</td>\n",
              "      <td>0</td>\n",
              "      <td>0</td>\n",
              "      <td>0</td>\n",
              "      <td>...</td>\n",
              "      <td>1</td>\n",
              "      <td>0</td>\n",
              "      <td>0</td>\n",
              "      <td>0</td>\n",
              "      <td>0</td>\n",
              "      <td>0</td>\n",
              "      <td>0</td>\n",
              "      <td>0</td>\n",
              "      <td>1</td>\n",
              "      <td>0</td>\n",
              "    </tr>\n",
              "    <tr>\n",
              "      <th>2</th>\n",
              "      <td>10547893</td>\n",
              "      <td>1</td>\n",
              "      <td>5000</td>\n",
              "      <td>0</td>\n",
              "      <td>0</td>\n",
              "      <td>0</td>\n",
              "      <td>0</td>\n",
              "      <td>0</td>\n",
              "      <td>0</td>\n",
              "      <td>0</td>\n",
              "      <td>...</td>\n",
              "      <td>0</td>\n",
              "      <td>0</td>\n",
              "      <td>0</td>\n",
              "      <td>0</td>\n",
              "      <td>0</td>\n",
              "      <td>0</td>\n",
              "      <td>0</td>\n",
              "      <td>0</td>\n",
              "      <td>1</td>\n",
              "      <td>0</td>\n",
              "    </tr>\n",
              "    <tr>\n",
              "      <th>3</th>\n",
              "      <td>10553066</td>\n",
              "      <td>1</td>\n",
              "      <td>6692</td>\n",
              "      <td>1</td>\n",
              "      <td>0</td>\n",
              "      <td>0</td>\n",
              "      <td>0</td>\n",
              "      <td>0</td>\n",
              "      <td>0</td>\n",
              "      <td>0</td>\n",
              "      <td>...</td>\n",
              "      <td>0</td>\n",
              "      <td>1</td>\n",
              "      <td>0</td>\n",
              "      <td>0</td>\n",
              "      <td>0</td>\n",
              "      <td>0</td>\n",
              "      <td>0</td>\n",
              "      <td>0</td>\n",
              "      <td>1</td>\n",
              "      <td>0</td>\n",
              "    </tr>\n",
              "    <tr>\n",
              "      <th>4</th>\n",
              "      <td>10556103</td>\n",
              "      <td>1</td>\n",
              "      <td>142590</td>\n",
              "      <td>1</td>\n",
              "      <td>0</td>\n",
              "      <td>0</td>\n",
              "      <td>0</td>\n",
              "      <td>0</td>\n",
              "      <td>0</td>\n",
              "      <td>0</td>\n",
              "      <td>...</td>\n",
              "      <td>0</td>\n",
              "      <td>0</td>\n",
              "      <td>1</td>\n",
              "      <td>0</td>\n",
              "      <td>0</td>\n",
              "      <td>0</td>\n",
              "      <td>0</td>\n",
              "      <td>0</td>\n",
              "      <td>1</td>\n",
              "      <td>0</td>\n",
              "    </tr>\n",
              "  </tbody>\n",
              "</table>\n",
              "<p>5 rows × 19613 columns</p>\n",
              "</div>"
            ],
            "text/plain": [
              "        EIN  STATUS  ASK_AMT  IS_SUCCESSFUL  \\\n",
              "0  10520599       1     5000              1   \n",
              "1  10531628       1   108590              1   \n",
              "2  10547893       1     5000              0   \n",
              "3  10553066       1     6692              1   \n",
              "4  10556103       1   142590              1   \n",
              "\n",
              "   NAME_1 DAY RANCH RESCUE AND RURAL OKLAHOMA ANIMAL RESOURCE INC  \\\n",
              "0                                                  0                \n",
              "1                                                  0                \n",
              "2                                                  0                \n",
              "3                                                  0                \n",
              "4                                                  0                \n",
              "\n",
              "   NAME_100 BLACK MEN OF AMERICA  NAME_100 BLACK MEN OF MEMPHIS INC  \\\n",
              "0                              0                                  0   \n",
              "1                              0                                  0   \n",
              "2                              0                                  0   \n",
              "3                              0                                  0   \n",
              "4                              0                                  0   \n",
              "\n",
              "   NAME_100 BLACK MEN OF WEST GEORGIA INC  NAME_1150 WEBSTER STREET INC  \\\n",
              "0                                       0                             0   \n",
              "1                                       0                             0   \n",
              "2                                       0                             0   \n",
              "3                                       0                             0   \n",
              "4                                       0                             0   \n",
              "\n",
              "   NAME_116TH CAVALRY REGIMENT CHAPTER OF THE US CAVALRY & ARMOR ASSOCIATION  \\\n",
              "0                                                  0                           \n",
              "1                                                  0                           \n",
              "2                                                  0                           \n",
              "3                                                  0                           \n",
              "4                                                  0                           \n",
              "\n",
              "   ...  INCOME_AMT_1-9999  INCOME_AMT_10000-24999  INCOME_AMT_100000-499999  \\\n",
              "0  ...                  0                       0                         0   \n",
              "1  ...                  1                       0                         0   \n",
              "2  ...                  0                       0                         0   \n",
              "3  ...                  0                       1                         0   \n",
              "4  ...                  0                       0                         1   \n",
              "\n",
              "   INCOME_AMT_10M-50M  INCOME_AMT_1M-5M  INCOME_AMT_25000-99999  \\\n",
              "0                   0                 0                       0   \n",
              "1                   0                 0                       0   \n",
              "2                   0                 0                       0   \n",
              "3                   0                 0                       0   \n",
              "4                   0                 0                       0   \n",
              "\n",
              "   INCOME_AMT_50M+  INCOME_AMT_5M-10M  SPECIAL_CONSIDERATIONS_N  \\\n",
              "0                0                  0                         1   \n",
              "1                0                  0                         1   \n",
              "2                0                  0                         1   \n",
              "3                0                  0                         1   \n",
              "4                0                  0                         1   \n",
              "\n",
              "   SPECIAL_CONSIDERATIONS_Y  \n",
              "0                         0  \n",
              "1                         0  \n",
              "2                         0  \n",
              "3                         0  \n",
              "4                         0  \n",
              "\n",
              "[5 rows x 19613 columns]"
            ]
          },
          "execution_count": 11,
          "metadata": {},
          "output_type": "execute_result"
        }
      ],
      "source": [
        "# Convert categorical data to numeric with `pd.get_dummies\n",
        "app_dummies = pd.get_dummies(application_df)\n",
        "\n",
        "app_dummies.head()\n"
      ]
    },
    {
      "cell_type": "code",
      "execution_count": 12,
      "metadata": {
        "id": "i_IxjenCzRCX"
      },
      "outputs": [],
      "source": [
        "# Split our preprocessed data into our features and target arrays\n",
        "X = app_dummies.drop('IS_SUCCESSFUL', axis=1).values\n",
        "y = app_dummies['IS_SUCCESSFUL'].values\n",
        "\n",
        "# Split the preprocessed data into a training and testing dataset\n",
        "X_train, X_test, y_train, y_test = train_test_split(X, y, random_state=42)"
      ]
    },
    {
      "cell_type": "code",
      "execution_count": 13,
      "metadata": {
        "colab": {
          "base_uri": "https://localhost:8080/",
          "height": 232
        },
        "id": "wMYz5132zRCX",
        "outputId": "36d0b3de-c0bc-4f9f-b1ac-7ea45deee198"
      },
      "outputs": [],
      "source": [
        "# Create a StandardScaler instances\n",
        "scaler = StandardScaler()\n",
        "\n",
        "# Fit the StandardScaler\n",
        "X_scaler = scaler.fit(X_train)\n",
        "\n",
        "# Scale the data\n",
        "X_train_scaled = X_scaler.transform(X_train)\n",
        "X_test_scaled = X_scaler.transform(X_test)"
      ]
    },
    {
      "cell_type": "markdown",
      "metadata": {
        "id": "tTLg9HX9zRCY"
      },
      "source": [
        "## Compile, Train and Evaluate the Model"
      ]
    },
    {
      "cell_type": "code",
      "execution_count": 14,
      "metadata": {
        "id": "ktmcD7_NzRCY",
        "outputId": "69f75a18-3c29-4c2d-e3f5-fc04637a0bd2"
      },
      "outputs": [
        {
          "name": "stdout",
          "output_type": "stream",
          "text": [
            "Model: \"sequential\"\n",
            "_________________________________________________________________\n",
            " Layer (type)                Output Shape              Param #   \n",
            "=================================================================\n",
            " dense (Dense)               (None, 80)                1569040   \n",
            "                                                                 \n",
            " dense_1 (Dense)             (None, 30)                2430      \n",
            "                                                                 \n",
            " dense_2 (Dense)             (None, 30)                930       \n",
            "                                                                 \n",
            "=================================================================\n",
            "Total params: 1,572,400\n",
            "Trainable params: 1,572,400\n",
            "Non-trainable params: 0\n",
            "_________________________________________________________________\n"
          ]
        }
      ],
      "source": [
        "# Define the model - deep neural net, i.e., the number of input features and hidden nodes for each layer.\n",
        "input_features = X_train_scaled.shape[1]\n",
        "\n",
        "hidden_node1 = 80\n",
        "\n",
        "hidden_node2 = 30\n",
        "\n",
        "hidden_node3 = 30\n",
        "\n",
        "nn_model = tf.keras.models.Sequential()\n",
        "\n",
        "# First hidden layer\n",
        "nn_model.add(tf.keras.layers.Dense(units=hidden_node1, activation='relu', input_dim=input_features))\n",
        "\n",
        "# Second hidden layer\n",
        "nn_model.add(tf.keras.layers.Dense(units=hidden_node2, activation='relu'))\n",
        "\n",
        "# Output layer\n",
        "nn_model.add(tf.keras.layers.Dense(units=hidden_node3, activation='relu'))\n",
        "\n",
        "# Check the structure of the model\n",
        "nn_model.summary()"
      ]
    },
    {
      "cell_type": "code",
      "execution_count": 15,
      "metadata": {
        "id": "eRwEqPrIzRCY",
        "outputId": "75ead920-6c04-4f2d-ebd9-a82498db30ee"
      },
      "outputs": [],
      "source": [
        "# Compile the model\n",
        "nn_model.compile(loss='binary_crossentropy', optimizer='adam', metrics=['accuracy'])"
      ]
    },
    {
      "cell_type": "code",
      "execution_count": 16,
      "metadata": {
        "id": "wDKtxeRJzRCY",
        "outputId": "7d05c8dd-bed3-4370-bb93-4b9b7763b53a"
      },
      "outputs": [
        {
          "name": "stdout",
          "output_type": "stream",
          "text": [
            "Epoch 1/50\n",
            "684/684 [==============================] - 10s 12ms/step - loss: 2.6692 - accuracy: 0.0135 - val_loss: 2.3359 - val_accuracy: 5.1827e-04\n",
            "Epoch 2/50\n",
            "684/684 [==============================] - 6s 8ms/step - loss: 1.4330 - accuracy: 0.0058 - val_loss: 2.3260 - val_accuracy: 7.7740e-04\n",
            "Epoch 3/50\n",
            "684/684 [==============================] - 6s 9ms/step - loss: 0.4937 - accuracy: 0.0065 - val_loss: 2.4694 - val_accuracy: 0.0016\n",
            "Epoch 4/50\n",
            "684/684 [==============================] - 6s 9ms/step - loss: 0.2116 - accuracy: 0.0573 - val_loss: 2.3553 - val_accuracy: 0.0054\n",
            "Epoch 5/50\n",
            "684/684 [==============================] - 6s 9ms/step - loss: 0.1669 - accuracy: 0.1263 - val_loss: 2.5373 - val_accuracy: 0.0083\n",
            "Epoch 6/50\n",
            "684/684 [==============================] - 7s 11ms/step - loss: 0.1448 - accuracy: 0.1536 - val_loss: 2.4860 - val_accuracy: 0.0137\n",
            "Epoch 7/50\n",
            "684/684 [==============================] - 7s 10ms/step - loss: 0.1371 - accuracy: 0.1723 - val_loss: 2.6371 - val_accuracy: 0.0197\n",
            "Epoch 8/50\n",
            "684/684 [==============================] - 6s 9ms/step - loss: 0.1351 - accuracy: 0.1758 - val_loss: 2.5788 - val_accuracy: 0.0189\n",
            "Epoch 9/50\n",
            "684/684 [==============================] - 6s 9ms/step - loss: 0.1570 - accuracy: 0.1712 - val_loss: 2.4637 - val_accuracy: 0.0176\n",
            "Epoch 10/50\n",
            "684/684 [==============================] - 6s 8ms/step - loss: 0.1307 - accuracy: 0.1760 - val_loss: 2.5331 - val_accuracy: 0.0249\n",
            "Epoch 11/50\n",
            "684/684 [==============================] - 6s 9ms/step - loss: 0.1218 - accuracy: 0.1789 - val_loss: 2.4664 - val_accuracy: 0.0262\n",
            "Epoch 12/50\n",
            "684/684 [==============================] - 6s 8ms/step - loss: 0.1176 - accuracy: 0.1893 - val_loss: 2.4281 - val_accuracy: 0.0316\n",
            "Epoch 13/50\n",
            "684/684 [==============================] - 6s 9ms/step - loss: 0.1147 - accuracy: 0.2142 - val_loss: 2.3542 - val_accuracy: 0.2454\n",
            "Epoch 14/50\n",
            "684/684 [==============================] - 6s 8ms/step - loss: 0.1170 - accuracy: 0.3689 - val_loss: 2.3196 - val_accuracy: 0.2379\n",
            "Epoch 15/50\n",
            "684/684 [==============================] - 6s 9ms/step - loss: 0.1087 - accuracy: 0.2408 - val_loss: 2.3558 - val_accuracy: 0.0293\n",
            "Epoch 16/50\n",
            "684/684 [==============================] - 7s 10ms/step - loss: 0.1088 - accuracy: 0.1754 - val_loss: 2.4074 - val_accuracy: 0.0197\n",
            "Epoch 17/50\n",
            "684/684 [==============================] - 7s 10ms/step - loss: 0.1080 - accuracy: 0.1887 - val_loss: 2.4763 - val_accuracy: 0.0327\n",
            "Epoch 18/50\n",
            "684/684 [==============================] - 8s 12ms/step - loss: 0.1155 - accuracy: 0.2151 - val_loss: 2.6829 - val_accuracy: 0.0500\n",
            "Epoch 19/50\n",
            "684/684 [==============================] - 8s 11ms/step - loss: 0.1088 - accuracy: 0.1739 - val_loss: 2.7292 - val_accuracy: 0.0119\n",
            "Epoch 20/50\n",
            "684/684 [==============================] - 7s 10ms/step - loss: 0.1056 - accuracy: 0.1618 - val_loss: 2.9232 - val_accuracy: 0.0246\n",
            "Epoch 21/50\n",
            "684/684 [==============================] - 6s 9ms/step - loss: 0.1027 - accuracy: 0.1920 - val_loss: 3.0257 - val_accuracy: 0.0332\n",
            "Epoch 22/50\n",
            "684/684 [==============================] - 6s 9ms/step - loss: 0.1025 - accuracy: 0.2025 - val_loss: 2.7660 - val_accuracy: 0.0396\n",
            "Epoch 23/50\n",
            "684/684 [==============================] - 5s 8ms/step - loss: 0.0987 - accuracy: 0.2205 - val_loss: 2.7988 - val_accuracy: 0.0625\n",
            "Epoch 24/50\n",
            "684/684 [==============================] - 6s 8ms/step - loss: 0.1031 - accuracy: 0.2325 - val_loss: 2.4738 - val_accuracy: 0.0446\n",
            "Epoch 25/50\n",
            "684/684 [==============================] - 7s 10ms/step - loss: 0.1011 - accuracy: 0.2052 - val_loss: 2.4341 - val_accuracy: 0.0391\n",
            "Epoch 26/50\n",
            "684/684 [==============================] - 6s 8ms/step - loss: 0.0979 - accuracy: 0.2247 - val_loss: 2.4550 - val_accuracy: 0.0643\n",
            "Epoch 27/50\n",
            "684/684 [==============================] - 7s 10ms/step - loss: 0.1029 - accuracy: 0.2332 - val_loss: 2.4590 - val_accuracy: 0.0671\n",
            "Epoch 28/50\n",
            "684/684 [==============================] - 7s 11ms/step - loss: 0.1061 - accuracy: 0.2356 - val_loss: 2.7909 - val_accuracy: 0.0749\n",
            "Epoch 29/50\n",
            "684/684 [==============================] - 6s 9ms/step - loss: 0.1025 - accuracy: 0.2349 - val_loss: 2.4817 - val_accuracy: 0.0692\n",
            "Epoch 30/50\n",
            "684/684 [==============================] - 7s 10ms/step - loss: 0.0995 - accuracy: 0.2266 - val_loss: 2.4471 - val_accuracy: 0.0697\n",
            "Epoch 31/50\n",
            "684/684 [==============================] - 7s 10ms/step - loss: 0.0990 - accuracy: 0.2342 - val_loss: 2.4355 - val_accuracy: 0.0707\n",
            "Epoch 32/50\n",
            "684/684 [==============================] - 6s 8ms/step - loss: 0.0992 - accuracy: 0.2373 - val_loss: 2.4675 - val_accuracy: 0.0757\n",
            "Epoch 33/50\n",
            "684/684 [==============================] - 7s 11ms/step - loss: 0.1041 - accuracy: 0.2452 - val_loss: 2.5334 - val_accuracy: 0.0816\n",
            "Epoch 34/50\n",
            "684/684 [==============================] - 6s 9ms/step - loss: 0.0992 - accuracy: 0.2520 - val_loss: 2.4847 - val_accuracy: 0.0897\n",
            "Epoch 35/50\n",
            "684/684 [==============================] - 6s 8ms/step - loss: 0.0977 - accuracy: 0.2588 - val_loss: 2.4229 - val_accuracy: 0.1122\n",
            "Epoch 36/50\n",
            "684/684 [==============================] - 6s 8ms/step - loss: 0.0995 - accuracy: 0.2592 - val_loss: 2.4380 - val_accuracy: 0.1029\n",
            "Epoch 37/50\n",
            "684/684 [==============================] - 7s 10ms/step - loss: 0.0998 - accuracy: 0.2676 - val_loss: 2.4763 - val_accuracy: 0.1140\n",
            "Epoch 38/50\n",
            "684/684 [==============================] - 6s 9ms/step - loss: 0.0993 - accuracy: 0.2950 - val_loss: 2.5220 - val_accuracy: 0.1169\n",
            "Epoch 39/50\n",
            "684/684 [==============================] - 7s 10ms/step - loss: 0.0999 - accuracy: 0.2803 - val_loss: 2.4662 - val_accuracy: 0.1042\n",
            "Epoch 40/50\n",
            "684/684 [==============================] - 6s 8ms/step - loss: 0.0984 - accuracy: 0.2750 - val_loss: 2.6044 - val_accuracy: 0.1353\n",
            "Epoch 41/50\n",
            "684/684 [==============================] - 6s 9ms/step - loss: 0.0975 - accuracy: 0.2424 - val_loss: 2.5587 - val_accuracy: 0.0658\n",
            "Epoch 42/50\n",
            "684/684 [==============================] - 7s 11ms/step - loss: 0.0986 - accuracy: 0.2521 - val_loss: 2.5156 - val_accuracy: 0.1161\n",
            "Epoch 43/50\n",
            "684/684 [==============================] - 6s 8ms/step - loss: 0.0995 - accuracy: 0.2652 - val_loss: 2.4881 - val_accuracy: 0.1057\n",
            "Epoch 44/50\n",
            "684/684 [==============================] - 6s 8ms/step - loss: 0.0997 - accuracy: 0.2726 - val_loss: 2.5099 - val_accuracy: 0.1164\n",
            "Epoch 45/50\n",
            "684/684 [==============================] - 6s 9ms/step - loss: 0.1015 - accuracy: 0.2838 - val_loss: 2.5085 - val_accuracy: 0.1169\n",
            "Epoch 46/50\n",
            "684/684 [==============================] - 6s 9ms/step - loss: 0.0966 - accuracy: 0.2775 - val_loss: 2.4396 - val_accuracy: 0.1861\n",
            "Epoch 47/50\n",
            "684/684 [==============================] - 7s 10ms/step - loss: 0.0965 - accuracy: 0.2757 - val_loss: 2.5698 - val_accuracy: 0.2200\n",
            "Epoch 48/50\n",
            "684/684 [==============================] - 6s 9ms/step - loss: 0.1049 - accuracy: 0.3043 - val_loss: 2.5524 - val_accuracy: 0.1109\n",
            "Epoch 49/50\n",
            "684/684 [==============================] - 5s 8ms/step - loss: 0.1037 - accuracy: 0.2695 - val_loss: 2.5161 - val_accuracy: 0.1026\n",
            "Epoch 50/50\n",
            "684/684 [==============================] - 7s 10ms/step - loss: 0.1033 - accuracy: 0.2731 - val_loss: 2.5382 - val_accuracy: 0.1236\n"
          ]
        }
      ],
      "source": [
        "# Train the model\n",
        "fit_model = nn_model.fit(X_train_scaled, y_train, validation_split=0.15, epochs=50)"
      ]
    },
    {
      "cell_type": "code",
      "execution_count": 17,
      "metadata": {
        "id": "Q4vnZfiJzRCZ",
        "outputId": "d1ff3ede-ba23-40cd-e74b-9e8d7370debe"
      },
      "outputs": [
        {
          "name": "stdout",
          "output_type": "stream",
          "text": [
            "268/268 - 3s - loss: 0.7871 - accuracy: 0.1092 - 3s/epoch - 12ms/step\n",
            "Loss: 0.7870756387710571, Accuracy: 0.10915452241897583\n"
          ]
        }
      ],
      "source": [
        "# Evaluate the model using the test data\n",
        "model_loss, model_accuracy = nn_model.evaluate(X_test_scaled,y_test,verbose=2)\n",
        "print(f\"Loss: {model_loss}, Accuracy: {model_accuracy}\")"
      ]
    },
    {
      "cell_type": "code",
      "execution_count": 18,
      "metadata": {
        "id": "4aURFYX3zRCZ"
      },
      "outputs": [],
      "source": [
        "# Export our model to HDF5 file\n",
        "nn_model.save('Models/AlphabetSoupCharity.h5')"
      ]
    }
  ],
  "metadata": {
    "colab": {
      "include_colab_link": true,
      "provenance": []
    },
    "kernelspec": {
      "display_name": "tensorflowEv",
      "language": "python",
      "name": "python3"
    },
    "language_info": {
      "codemirror_mode": {
        "name": "ipython",
        "version": 3
      },
      "file_extension": ".py",
      "mimetype": "text/x-python",
      "name": "python",
      "nbconvert_exporter": "python",
      "pygments_lexer": "ipython3",
      "version": "3.10.10"
    },
    "vscode": {
      "interpreter": {
        "hash": "d7a148466d7256f64da629008aadca50f8c83e42efe857dbae694d4cc88e5518"
      }
    }
  },
  "nbformat": 4,
  "nbformat_minor": 0
}
